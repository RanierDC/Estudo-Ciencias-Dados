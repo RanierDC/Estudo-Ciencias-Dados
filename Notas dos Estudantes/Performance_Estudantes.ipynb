{
  "nbformat": 4,
  "nbformat_minor": 0,
  "metadata": {
    "colab": {
      "provenance": []
    },
    "kernelspec": {
      "name": "python3",
      "display_name": "Python 3"
    },
    "language_info": {
      "name": "python"
    }
  },
  "cells": [
    {
      "cell_type": "code",
      "execution_count": null,
      "metadata": {
        "id": "MmwmQQMJ5olA"
      },
      "outputs": [],
      "source": [
        "import seaborn as sns\n",
        "import pandas as pd\n",
        "import numpy as np\n",
        "from sklearn.model_selection import train_test_split\n",
        "from sklearn.linear_model import LinearRegression\n",
        "from sklearn import metrics\n",
        "import statsmodels.api as sm"
      ]
    },
    {
      "cell_type": "code",
      "source": [
        "dados = pd.read_csv('Student_Performance.csv')"
      ],
      "metadata": {
        "id": "1N1tBRKU51he"
      },
      "execution_count": null,
      "outputs": []
    },
    {
      "cell_type": "code",
      "source": [
        "dados.head()"
      ],
      "metadata": {
        "id": "d5owSV5a5_qK"
      },
      "execution_count": null,
      "outputs": []
    },
    {
      "cell_type": "code",
      "source": [
        "dados.describe().round(2)"
      ],
      "metadata": {
        "id": "lErvJUAk6DMp"
      },
      "execution_count": null,
      "outputs": []
    },
    {
      "cell_type": "code",
      "source": [
        "dados.info()"
      ],
      "metadata": {
        "id": "2i3JjhCO6FAS"
      },
      "execution_count": null,
      "outputs": []
    },
    {
      "cell_type": "code",
      "source": [
        "dados['Extracurricular Activities'] = dados['Extracurricular Activities'].str.replace('Yes', '1')\n",
        "dados['Extracurricular Activities'] = dados['Extracurricular Activities'].str.replace('No', '0')\n",
        "\n",
        "dados['Extracurricular Activities']  = dados['Extracurricular Activities'].astype(int)"
      ],
      "metadata": {
        "id": "8VcSO2-B6Qeo"
      },
      "execution_count": null,
      "outputs": []
    },
    {
      "cell_type": "code",
      "source": [
        "dados.info()"
      ],
      "metadata": {
        "id": "Lb4dCKEP68-R"
      },
      "execution_count": null,
      "outputs": []
    },
    {
      "cell_type": "code",
      "source": [
        "dados.head()"
      ],
      "metadata": {
        "id": "RH-K713z6-1O"
      },
      "execution_count": null,
      "outputs": []
    },
    {
      "cell_type": "code",
      "source": [
        "ax = sns.boxplot(data = dados['Performance Index'])"
      ],
      "metadata": {
        "id": "Ixc61G4Q7B6P"
      },
      "execution_count": null,
      "outputs": []
    },
    {
      "cell_type": "code",
      "source": [
        "ax = sns.distplot(dados['Performance Index'])"
      ],
      "metadata": {
        "id": "WdK5qCUa7ZKA"
      },
      "execution_count": null,
      "outputs": []
    },
    {
      "cell_type": "code",
      "source": [
        "ax = sns.pairplot(dados, y_vars = 'Performance Index', x_vars = ['Hours Studied', 'Previous Scores', 'Extracurricular Activities', 'Sleep Hours', 'Sample Question Papers Practiced'])"
      ],
      "metadata": {
        "id": "MbAjR5fm70SM"
      },
      "execution_count": null,
      "outputs": []
    },
    {
      "cell_type": "code",
      "source": [
        "y = dados['Performance Index']\n",
        "X = dados[['Hours Studied', 'Previous Scores', 'Extracurricular Activities', 'Sleep Hours', 'Sample Question Papers Practiced']]\n",
        "\n",
        "X_train, X_test, y_train, y_test = train_test_split(X, y, test_size=0.3, random_state=2811)\n",
        "\n",
        "modelo = LinearRegression()\n",
        "modelo.fit(X_train, y_train)"
      ],
      "metadata": {
        "id": "_NhlWxam7hW8"
      },
      "execution_count": null,
      "outputs": []
    },
    {
      "cell_type": "code",
      "source": [
        "# Testes informais\n",
        "print('R²: {0:.2f}'.format(modelo.score(X_train, y_train)))"
      ],
      "metadata": {
        "colab": {
          "base_uri": "https://localhost:8080/"
        },
        "id": "pKiRb5Ya86RH",
        "outputId": "583f48fe-460e-4ba5-cea9-18bc530d3748"
      },
      "execution_count": null,
      "outputs": [
        {
          "output_type": "stream",
          "name": "stdout",
          "text": [
            "R²: 0.99\n"
          ]
        }
      ]
    },
    {
      "cell_type": "code",
      "source": [
        "y_previsto = modelo.predict(X_test)"
      ],
      "metadata": {
        "id": "JoLi74S69YO7"
      },
      "execution_count": null,
      "outputs": []
    },
    {
      "cell_type": "code",
      "source": [
        "# mais testes informais\n",
        "EQM = metrics.mean_squared_error(y_test, y_previsto).round(2)\n",
        "REQM = np.sqrt(metrics.mean_squared_error(y_test, y_previsto)).round(2)\n",
        "R2 = metrics.r2_score(y_test, y_previsto).round(2)\n",
        "\n",
        "pd.DataFrame([EQM, REQM, R2], ['EQM', 'REQM', 'R²'], columns = ['Métricas'])"
      ],
      "metadata": {
        "id": "pJcaHoEA9gBf"
      },
      "execution_count": null,
      "outputs": []
    },
    {
      "cell_type": "code",
      "source": [
        "dados.describe().round(1)"
      ],
      "metadata": {
        "id": "zL8RdlcH90wV"
      },
      "execution_count": null,
      "outputs": []
    },
    {
      "cell_type": "code",
      "source": [
        "# ótimos resultados nos testes informais\n",
        "# agora, vamos para o teste formal\n",
        "\n",
        "dados['log_Performance'] = np.log(dados['Performance Index'])\n",
        "dados['log_Previous Scores'] = np.log(dados['Previous Scores'])\n",
        "dados['log_Extracurricular Activities'] = np.log(dados['Extracurricular Activities'] + 1)\n",
        "dados['log_Sleep Hours'] = np.log(dados['Sleep Hours'])\n",
        "dados['log_Question Practiced'] = np.log(dados['Sample Question Papers Practiced'] + 1)"
      ],
      "metadata": {
        "id": "LTJKenJx9mbD"
      },
      "execution_count": null,
      "outputs": []
    },
    {
      "cell_type": "code",
      "source": [
        "y_log = dados['log_Performance']\n",
        "X_log = dados[['log_Previous Scores', 'log_Extracurricular Activities', 'log_Sleep Hours', 'log_Question Practiced']]\n",
        "\n",
        "X_train_log, X_test_log, y_train_log, y_test_log = train_test_split(X_log, y_log, test_size=0.3, random_state=2811)\n",
        "\n",
        "modelo.fit(X_train_log, y_train_log)\n",
        "y_previsto_log = modelo.predict(X_test_log)"
      ],
      "metadata": {
        "id": "r04iWDUM9p5x"
      },
      "execution_count": null,
      "outputs": []
    },
    {
      "cell_type": "code",
      "source": [
        "X_train_com_const = sm.add_constant(X_train_log)\n",
        "modelo_statsmodels = sm.OLS(y_train_log, X_train_com_const, hasconst = True).fit()\n",
        "\n",
        "# Vizualizando as informções do modelo\n",
        "print(modelo_statsmodels.summary())"
      ],
      "metadata": {
        "id": "zBEzyygT_RjF"
      },
      "execution_count": null,
      "outputs": []
    },
    {
      "cell_type": "code",
      "source": [
        "entrada = X_test_log[0:1]\n",
        "np.exp(modelo.predict(entrada)[0])"
      ],
      "metadata": {
        "id": "dyLD_y5mAASE"
      },
      "execution_count": null,
      "outputs": []
    },
    {
      "cell_type": "code",
      "source": [
        "dados.query('index == 750')"
      ],
      "metadata": {
        "id": "5IRsxc4bAXHD"
      },
      "execution_count": null,
      "outputs": []
    },
    {
      "cell_type": "code",
      "source": [
        "index = ['Intercepto', 'Previous Scores', 'Extracurricular Activities', 'Sleep Hours', 'Question Practiced']\n",
        "pd.DataFrame(data = np.append(np.exp(modelo.intercept_), modelo.coef_), index = index, columns = ['Parâmetros'])"
      ],
      "metadata": {
        "id": "bY6tkjUZAw-u"
      },
      "execution_count": null,
      "outputs": []
    },
    {
      "cell_type": "code",
      "source": [
        "ax = sns.scatterplot(x=y_previsto_log, y= y_test)\n",
        "ax.figure.set_size_inches(12, 6)\n",
        "ax.set_title('Previsão X Real', fontsize=18)\n",
        "ax.set_xlabel('Quantidade de Kills - Previsão', fontsize=14)\n",
        "ax.set_ylabel('Quantidade de Kills - Real', fontsize=14)\n",
        "ax"
      ],
      "metadata": {
        "id": "j6ssA7ZKAeN6"
      },
      "execution_count": null,
      "outputs": []
    },
    {
      "cell_type": "code",
      "source": [
        "residuos = y_previsto_log - y_test_log"
      ],
      "metadata": {
        "id": "BlSS4i0rBmRX"
      },
      "execution_count": null,
      "outputs": []
    },
    {
      "cell_type": "code",
      "source": [
        "ax = sns.scatterplot(x=np.exp(y_previsto_log), y=residuos, s = 150)\n",
        "ax.figure.set_size_inches(20, 8)\n",
        "ax.set_title('Resíduos X Previsão', fontsize=18)\n",
        "ax.set_xlabel('Notas - Previsão', fontsize=14)\n",
        "ax.set_ylabel('Resíduos', fontsize=14)\n",
        "ax"
      ],
      "metadata": {
        "id": "NxCumInwBsjd"
      },
      "execution_count": null,
      "outputs": []
    },
    {
      "cell_type": "code",
      "source": [
        "ax = sns.scatterplot(x=np.exp(y_previsto_log), y=residuos**2, s = 150)\n",
        "ax.figure.set_size_inches(20, 8)\n",
        "ax.set_title('Resíduos X Previsão', fontsize=18)\n",
        "ax.set_xlabel('Kills - Previsão', fontsize=14)\n",
        "ax.set_ylabel('Resíduos²', fontsize=14)\n",
        "ax"
      ],
      "metadata": {
        "id": "eD1DUb-mB_Ew"
      },
      "execution_count": null,
      "outputs": []
    },
    {
      "cell_type": "code",
      "source": [
        "ax = sns.distplot(residuos)\n",
        "ax.figure.set_size_inches(12, 6)\n",
        "ax.set_title('Distribuição de Frequências dos Resíduos', fontsize=18)\n",
        "ax.set_xlabel('log do Preço', fontsize=14)\n",
        "ax"
      ],
      "metadata": {
        "id": "tCAVq2ZTCOW6"
      },
      "execution_count": null,
      "outputs": []
    }
  ]
}